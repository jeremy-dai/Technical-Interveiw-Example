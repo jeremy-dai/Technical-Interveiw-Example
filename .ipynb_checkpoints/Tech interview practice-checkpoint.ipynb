{
 "cells": [
  {
   "cell_type": "markdown",
   "metadata": {},
   "source": [
    "# Tech Interview Practice\n",
    "## Jeremy Dai"
   ]
  },
  {
   "cell_type": "markdown",
   "metadata": {},
   "source": [
    "# Question 1\n",
    "Given two strings s and t, determine whether some anagram of t is a substring of s. For example: if s = \"udacity\" and t = \"ad\", then the function returns True. Your function definition should look like: question1(s, t) and return a boolean True or False.\n",
    "\n",
    "## Solution\n",
    "It is easy test if a string is a substring of another. The question here is how to create all the anagrams for a string. Imagine we have a list of all the anagrams for a certain string t. Every time, we want to create a list of all the anagrams for t plus one addiontal character. The way doing this is add that character to any location of every anagram of t.\n",
    "\n",
    "So in the begining t only contains one character. We will add characters until it contains all the characters we need. A for loop plus an recursive function will be used here."
   ]
  },
  {
   "cell_type": "code",
   "execution_count": 336,
   "metadata": {},
   "outputs": [
    {
     "name": "stdout",
     "output_type": "stream",
     "text": [
      "The anagram list is: ['elov', 'leov', 'loev', 'love', 'eolv', 'oelv', 'olev', 'olve', 'eovl', 'oevl', 'ovel', 'ovle', 'elvo', 'levo', 'lveo', 'lvoe', 'evlo', 'velo', 'vleo', 'vloe', 'evol', 'veol', 'voel', 'vole']\n",
      "The target string is: i love you\n",
      "One of the anagram is a substring of target string?\n",
      "True\n"
     ]
    }
   ],
   "source": [
    "def question1(t,s):\n",
    "    chars=sorted(t)\n",
    "    #Use helper1 fuction to get a list of all the anagrams\n",
    "    t_list=helper1(chars)\n",
    "    print 'The anagram list is:',t_list\n",
    "    print 'The target string is:',s\n",
    "    print 'One of the anagram is a substring of target string?'\n",
    "    for t in t_list:\n",
    "        if t in s:\n",
    "            return True\n",
    "    return False\n",
    "    \n",
    "def helper1(chars):\n",
    "    #create a list of all the anagrams\n",
    "    if len(chars)<=1:\n",
    "        return chars\n",
    "    else:\n",
    "        anagrams=[]\n",
    "        for anagram in helper1(chars[1:]): # get all the possible anagrams with last i-1 character(s)\n",
    "            for i in range(len(chars)): # there are i combination(s) for each anagram\n",
    "                new_anagram=anagram[0:i]+chars[0]+anagram[i:]\n",
    "                anagrams.append(new_anagram)\n",
    "        return anagrams\n",
    "    \n",
    "print question1('oelv','i love you')"
   ]
  },
  {
   "cell_type": "markdown",
   "metadata": {},
   "source": [
    "For a string of n characters, inserting another character in any location requires n+1 times calculation.\n",
    "\n",
    "So the runtime is O(n!)\n",
    "\n",
    "# Question 2\n",
    "Given a string a, find the longest palindromic substring contained in a. Your function definition should look like question2(a), and return a string.\n",
    "\n",
    "## Solution\n",
    "First, everay single character is a palindrom of length 1. \n",
    "\n",
    "The simple solution is to list all the palindroms in the list and return the longest ones.\n",
    "\n",
    "1. Two situations: palindrome of even length or odd length \n",
    "2. Start with one character or two identical characters within the word\n",
    "3. Check the left and right characters in the word besides the character\n",
    "4. If they are the same, add them into the current palindrom\n",
    "5. Repeat 3 and 4 until they are different or we run out of characters in the word\n",
    "6. Append the index of the start character of the current palindrom in the list"
   ]
  },
  {
   "cell_type": "code",
   "execution_count": 347,
   "metadata": {},
   "outputs": [
    {
     "name": "stdout",
     "output_type": "stream",
     "text": [
      "The length of longest palindromic substring of  cbcdaaa is 3\n",
      "They are/It is:\n",
      "cbc\n",
      "aaa\n",
      "The length of longest palindromic substring of  abcbaaa is 5\n",
      "They are/It is:\n",
      "abcba\n",
      "The length of longest palindromic substring of  abcdef is 1\n",
      "They are/It is:\n",
      "a\n",
      "f\n",
      "b\n",
      "c\n",
      "d\n",
      "e\n"
     ]
    }
   ],
   "source": [
    "from collections import defaultdict\n",
    "\n",
    "def question2(a):\n",
    "    maxlength=1\n",
    "    palindrome=defaultdict(list)\n",
    "    palindrome[1]=[0,len(a)-1] #st\n",
    "    # Find the longest odd length palindrome with center \n",
    "    for i in range(1,len(a)-1):\n",
    "        maxj=min(len(a)-1-i,i) # stop when we reach the leftmost or rightmost character\n",
    "        for j in range(1,maxj+1):\n",
    "            if a[i-j]!=a[i+j]:\n",
    "                break\n",
    "        if a[i-j]!=a[i+j]:\n",
    "            length=2*j-1\n",
    "            index=i-j+1\n",
    "        else:\n",
    "            length=2*j+1\n",
    "            index=i-j\n",
    "        palindrome[length].append(index) #append the index based on its length\n",
    "        if length > maxlength:\n",
    "            maxlength=length # update the maxlength is the current one is longer\n",
    "            \n",
    "    # Find the longest even length palindrome with center \n",
    "    for i in range(0,len(a)-1):\n",
    "        if a[i]==a[i+1]: # find two adjacent identical characters in the word\n",
    "            # if the characters are the leftmost or rightmost ones\n",
    "            if i==0 or i==len(a)-2:\n",
    "                if maxlength<2:\n",
    "                    maxlength=2 # update the maxlength is the current one is longer\n",
    "                palindrome[2].append(i)\n",
    "            else:\n",
    "                maxj=min(len(a)-2-i,i) # stop when we reach the leftmost or rightmost character\n",
    "                for j in range(1,maxj+1):\n",
    "                    if a[i-j]!=a[i+1+j]:\n",
    "                        break\n",
    "                if a[i-j]!=a[i+1+j]:\n",
    "                    length=2*j\n",
    "                    index=i-j+1\n",
    "                else:\n",
    "                    length=2*j+2\n",
    "                    index=i-j                  \n",
    "                palindrome[length].append(index) #append the index based on its length\n",
    "                if length > maxlength:\n",
    "                    maxlength=length # update the maxlength is the current one is longer\n",
    "                        \n",
    "    print 'The length of longest palindromic substring of ', a, 'is',maxlength\n",
    "    print 'They are/It is:'\n",
    "    for i in palindrome[maxlength]:\n",
    "        print a[i:i+maxlength]\n",
    "            \n",
    "question2('cbcdaaa')\n",
    "question2('abcbaaa')\n",
    "question2('abcdef')"
   ]
  },
  {
   "cell_type": "markdown",
   "metadata": {},
   "source": [
    "For a string of length n, serach every character takes n times of calculation. For each character, we need an average of n/2 times of calculation. In total, the runtime is O(n^2)\n",
    "\n",
    "# Question 3\n",
    "Given an undirected graph G, find the minimum spanning tree within G. A minimum spanning tree connects all vertices in a graph with the smallest possible total weight of edges. Your function should take in and return an adjacency list structured like this:\n",
    "\n",
    "{'A': [('B', 2)],\n",
    " 'B': [('A', 2), ('C', 5)], \n",
    " 'C': [('B', 5)]}\n",
    "Vertices are represented as unique strings. The function definition should be question3(G)\n",
    "\n",
    "## Solution\n",
    "We will use prim's algorithm here. Based on [wikipedia](https://en.wikipedia.org/wiki/Prim%27s_algorithm):\n",
    "> Prim's algorithm is a greedy algorithm that finds a minimum spanning tree for a weighted undirected graph. This means it finds a subset of the edges that forms a tree that includes every vertex, where the total weight of all the edges in the tree is minimized. The algorithm operates by building this tree one vertex at a time, from an arbitrary starting vertex, at each step adding the cheapest possible connection from the tree to another vertex."
   ]
  },
  {
   "cell_type": "code",
   "execution_count": 262,
   "metadata": {},
   "outputs": [],
   "source": [
    "from collections import defaultdict"
   ]
  },
  {
   "cell_type": "code",
   "execution_count": 348,
   "metadata": {},
   "outputs": [
    {
     "name": "stdout",
     "output_type": "stream",
     "text": [
      "The start node is: A\n",
      "defaultdict(<type 'list'>, {'A': [('C', 1), ('B', 2)], 'C': [('A', 1)], 'B': [('A', 2)]})\n"
     ]
    }
   ],
   "source": [
    "G={'A': [('B', 2)],\n",
    " 'B': [('A', 2), ('C', 5)], \n",
    " 'C': [('B', 5)]}\n",
    "\n",
    "def question3(G):\n",
    "    mst=defaultdict(list) # to store all the edges in the minimum spanning tree\n",
    "    edgeweight=defaultdict(dict) # a nested dictionary to store edge weights\n",
    "    queue=[] # a queue to store all the nodes not in the mst\n",
    "    key={} # we will choose the node with lowest key for every iteration\n",
    "    parent={} # store the previous node to create edge\n",
    "    first = None # the first node we start with\n",
    "    \n",
    "    ### initialize\n",
    "    # create parant\n",
    "    for k in G:\n",
    "        if not first: # if there is no first node, assign a node to it\n",
    "            first = k\n",
    "        key[k] = 9999\n",
    "        parent[k] = None\n",
    "        queue.append(k)\n",
    "        for node in G[k]:    \n",
    "            edgeweight[k][node[0]]=node[1]\n",
    "\n",
    "    key[first]=0\n",
    "    print 'The start node is:',first\n",
    "    \n",
    "    # iterate until there is no node in the queue\n",
    "    \n",
    "    while queue:\n",
    "        u = min(queue, key=lambda q: key[q])\n",
    "        queue.remove(u)\n",
    "        v = parent[u]\n",
    "        i = 0\n",
    "        if v:\n",
    "            # push the edge into the mst\n",
    "            weight= edgeweight[v][u]\n",
    "            mst[v].append((u,weight))\n",
    "            mst[u].append((v,weight))             \n",
    "        for adj in G[u]:\n",
    "            v = adj[0]\n",
    "            weight = adj[1]\n",
    "            if v in queue and weight < key[v]:\n",
    "                parent[v]=u\n",
    "                key[v]=weight       \n",
    "    return mst\n",
    "\n",
    "G={'A': [('B', 2),('C', 1)],\n",
    " 'B': [('A', 2), ('C', 5)], \n",
    " 'C': [('B', 5),('A', 1)]}\n",
    "\n",
    "\n",
    "print question3(G)"
   ]
  },
  {
   "cell_type": "markdown",
   "metadata": {},
   "source": [
    "When we use Prim's algorithm, we search every node and its adjacent node. If we have V vertex, the worst case run time is O(V^2).\n",
    "\n",
    "\n",
    "# Question 4\n",
    "Find the least common ancestor between two nodes on a binary search tree. The least common ancestor is the farthest node from the root that is an ancestor of both nodes. For example, the root is a common ancestor of all nodes on the tree, but if both nodes are descendents of the root's left child, then that left child might be the lowest common ancestor. You can assume that both nodes are in the tree, and the tree itself adheres to all BST properties. The function definition should look like question4(T, r, n1, n2), where T is the tree represented as a matrix, where the index of the list is equal to the integer stored in that node and a 1 represents a child node, r is a non-negative integer representing the root, and n1 and n2 are non-negative integers representing the two nodes in no particular order. \n",
    "\n",
    "## Solution"
   ]
  },
  {
   "cell_type": "code",
   "execution_count": 351,
   "metadata": {},
   "outputs": [
    {
     "name": "stdout",
     "output_type": "stream",
     "text": [
      "3\n"
     ]
    }
   ],
   "source": [
    "def question4(T, r, n1, n2):\n",
    "    length=len(T[0])\n",
    "    ancestor1=[]\n",
    "    ancestor2=[]\n",
    "    # find the ancestor lists of the two leaves\n",
    "    ancestor1=helper4(T,r,n1,length,ancestor1)\n",
    "    ancestor2=helper4(T,r,n2,length,ancestor2)\n",
    "    # find the least common ancestor\n",
    "    minlength = min(len(ancestor1),len(ancestor2))\n",
    "    for i in range(minlength):\n",
    "        if ancestor1[-i-1]!=ancestor2[-i-1]:\n",
    "            return ancestor1[-i]\n",
    "    return ancestor1[-1]\n",
    "\n",
    "def helper4(T,r,n,length,ancestor):\n",
    "    # this function is used to store the all the ancestors of a certain leaf\n",
    "    for i in range(length):\n",
    "        if A[i][n]==1:\n",
    "            ancestor.append(i)\n",
    "            if i == r:\n",
    "                return ancestor\n",
    "            helper4(T,r,i,length,ancestor)\n",
    "    return ancestor\n",
    "\n",
    "\n",
    "A=[[0, 0, 0, 0, 0],\n",
    "   [1, 0, 1, 0, 0],\n",
    "   [0, 0, 0, 0, 0],\n",
    "   [0, 1, 0, 0, 1],\n",
    "   [0, 0, 0, 0, 0]]\n",
    "print question4(A,3,0,2)"
   ]
  },
  {
   "cell_type": "markdown",
   "metadata": {},
   "source": [
    "First we go through the height of the tree for two leaves. The worst case takes n times of calculation (unbalanced) and the average case takes log(n) times.\n",
    "\n",
    "Then we compare the ancestor lists. So the worst case run time is O(n^2) and average case run time is O(log(n)^2)\n",
    "\n",
    "# Question 5\n",
    "Find the element in a singly linked list that's m elements from the end. For example, if a linked list has 5 elements, the 3rd element from the end is the 3rd element. The function definition should look like question5(ll, m), where ll is the first node of a linked list and m is the \"mth number from the end\". You should copy/paste the Node class below to use as a representation of a node in the linked list. Return the value of the node at that position.\n",
    "\n",
    "class Node(object):\n",
    "  def __init__(self, data):\n",
    "    self.data = data\n",
    "    self.next = None\n",
    "NEXT\n",
    "\n",
    "## Solution\n",
    "Firt we go though the Linkedinlist and append every item in a list. And then we serach through the list and find the item based on the index."
   ]
  },
  {
   "cell_type": "code",
   "execution_count": 356,
   "metadata": {},
   "outputs": [
    {
     "name": "stdout",
     "output_type": "stream",
     "text": [
      "['I', 'Love', \"Taylor Swift's\", 'Blank', 'Space']\n",
      "5\n",
      "Taylor Swift's\n"
     ]
    }
   ],
   "source": [
    "# define the node class\n",
    "class Node(object):\n",
    "    def __init__(self, data):\n",
    "        self.data = data\n",
    "        self.next = None\n",
    "\n",
    "# define the LinkedList class\n",
    "class LinkedList(object):\n",
    "    def __init__(self, head=None):\n",
    "        self.head = head\n",
    "    def append(self, new_node): \n",
    "        current = self.head\n",
    "        if self.head:\n",
    "            while current.next:\n",
    "                current = current.next\n",
    "            current.next = new_node\n",
    "        else:\n",
    "            self.head = new_node\n",
    "\n",
    "def question5(ll,m):\n",
    "    length, node_list = helper5(ll)\n",
    "    print node_list\n",
    "    print length\n",
    "    print node_list[length-m] # start from the right end of the list\n",
    "    \n",
    "def helper5(ll): \n",
    "    counter = 0 #get number of nodes\n",
    "    node_list=[] #get all the nodes in the LinkedList\n",
    "    current = ll.head\n",
    "    while current:\n",
    "        node_list.append(current.data)\n",
    "        current = current.next\n",
    "        counter += 1\n",
    "    return counter, node_list\n",
    "\n",
    "# Test cases\n",
    "# Set up some Elements\n",
    "e1 = Node('I')\n",
    "e2 = Node('Love')\n",
    "e3 = Node('Taylor Swift\\'s')\n",
    "e4 = Node('Blank')\n",
    "e5 = Node('Space')\n",
    "\n",
    "# Start setting up a LinkedList\n",
    "ll = LinkedList(e1)\n",
    "ll.append(e2)\n",
    "ll.append(e3)\n",
    "ll.append(e4)\n",
    "ll.append(e5)\n",
    "\n",
    "# Test Question5\n",
    "question5(ll,3)"
   ]
  },
  {
   "cell_type": "markdown",
   "metadata": {},
   "source": [
    "All it needs is seraching through the list. So the runtime is O(n) for n nodes."
   ]
  }
 ],
 "metadata": {
  "kernelspec": {
   "display_name": "Python [conda env:py2]",
   "language": "python",
   "name": "conda-env-py2-py"
  },
  "language_info": {
   "codemirror_mode": {
    "name": "ipython",
    "version": 2
   },
   "file_extension": ".py",
   "mimetype": "text/x-python",
   "name": "python",
   "nbconvert_exporter": "python",
   "pygments_lexer": "ipython2",
   "version": "2.7.13"
  }
 },
 "nbformat": 4,
 "nbformat_minor": 2
}
